{
  "nbformat": 4,
  "nbformat_minor": 0,
  "metadata": {
    "colab": {
      "provenance": [],
      "authorship_tag": "ABX9TyNoRAEvo5aOFzmW0HJBvhg8",
      "include_colab_link": true
    },
    "kernelspec": {
      "name": "python3",
      "display_name": "Python 3"
    },
    "language_info": {
      "name": "python"
    }
  },
  "cells": [
    {
      "cell_type": "markdown",
      "metadata": {
        "id": "view-in-github",
        "colab_type": "text"
      },
      "source": [
        "<a href=\"https://colab.research.google.com/github/eduzortea/SmartPill_Alura_Aula_4/blob/main/SmartPill.ipynb\" target=\"_parent\"><img src=\"https://colab.research.google.com/assets/colab-badge.svg\" alt=\"Open In Colab\"/></a>"
      ]
    },
    {
      "cell_type": "markdown",
      "source": [
        "Instalar SDK"
      ],
      "metadata": {
        "id": "0NSiU7C1mJc2"
      }
    },
    {
      "cell_type": "code",
      "source": [
        "pip install -q -U google-generativeai"
      ],
      "metadata": {
        "id": "XavTvWMTkWbA"
      },
      "execution_count": null,
      "outputs": []
    },
    {
      "cell_type": "code",
      "source": [],
      "metadata": {
        "id": "MTIHJpBLrhKk"
      },
      "execution_count": null,
      "outputs": []
    },
    {
      "cell_type": "code",
      "source": [
        "!pip install virtualenv\n"
      ],
      "metadata": {
        "id": "hotOhjk4r9QH"
      },
      "execution_count": null,
      "outputs": []
    },
    {
      "cell_type": "code",
      "source": [
        "!virtualenv biblioteca1"
      ],
      "metadata": {
        "id": "aA5S3jM_sW6P"
      },
      "execution_count": null,
      "outputs": []
    },
    {
      "cell_type": "code",
      "source": [
        "!source biblioteca1/bin/activate\n"
      ],
      "metadata": {
        "id": "WNMdyA0Tsf70"
      },
      "execution_count": null,
      "outputs": []
    },
    {
      "cell_type": "markdown",
      "source": [
        "biblioteca de autenticacao a servicos do google:"
      ],
      "metadata": {
        "id": "KJzSkUoxuP_f"
      }
    },
    {
      "cell_type": "code",
      "source": [
        "pip install --upgrade google-auth==2.27.0\n"
      ],
      "metadata": {
        "id": "ns1cWt0itijW"
      },
      "execution_count": null,
      "outputs": []
    },
    {
      "cell_type": "code",
      "source": [
        "pip install reportlab"
      ],
      "metadata": {
        "id": "OTvr4OftP4Kx"
      },
      "execution_count": null,
      "outputs": []
    },
    {
      "cell_type": "code",
      "source": [
        "pip install qrcode"
      ],
      "metadata": {
        "id": "p1xhUdFYP_jp"
      },
      "execution_count": null,
      "outputs": []
    },
    {
      "cell_type": "markdown",
      "source": [
        "Inicializar a IA\n"
      ],
      "metadata": {
        "id": "0FpuzSTxmITV"
      }
    },
    {
      "cell_type": "code",
      "source": [
        "from reportlab.lib.pagesizes import letter, landscape\n",
        "from reportlab.pdfgen import canvas\n",
        "from reportlab.platypus import Table, TableStyle\n",
        "from reportlab.lib import colors\n",
        "from datetime import datetime, timedelta\n",
        "import qrcode\n",
        "from google.colab import files\n",
        "import google.generativeai as genai\n",
        "from google.colab import userdata\n",
        "\n",
        "# Obter a chave de API e configurar o GenAI\n",
        "api_key = userdata.get(\"SECRET_KEY\")\n",
        "genai.configure(api_key=api_key)\n",
        "\n",
        "# Instruções do sistema para o GenAI\n",
        "system_instruction = \"Gere uma tabela de programação de medicamentos considerando as informações fornecidas. Cada linha na tabela deve representar um medicamento com as colunas correspondendo aos dias de tratamento, começando pela data de início especificada (ATENÇÃO QUE UM MEDICAMENTO PODE COMEÇAR A MINISTRAÇÃO DEPOIS DA DATA DE OUTRO MEDICAMENTO). Para cada medicamento, ajuste os horários de dose para coincidir com as refeições sempre que possível e não inclua horários de refeição já passados no dia de início.\"\n",
        "\n",
        "# Nome do modelo do GenAI\n",
        "model = genai.GenerativeModel(model_name='gemini-1.5-pro-latest', system_instruction=system_instruction)\n",
        "\n",
        "# Solicitar informações do usuário\n",
        "quantidade = int(input(\"Quantos medicamentos deseja incluir no plano: \"))\n",
        "\n",
        "medicamentos = []\n",
        "frequencias = []\n",
        "refeicoes_lista = []\n",
        "dias_lista = []\n",
        "inicios_lista = []\n",
        "\n",
        "for i in range(quantidade):\n",
        "    medicamentos.append(input(f\"Nome do {i + 1}º Medicamento: \"))\n",
        "    frequencias.append(input(f\"Frequência (em horas) do {i + 1}º Medicamento: \"))\n",
        "    refeicoes_lista.append(input(f\"Com refeições (Sim ou Não) do {i + 1}º Medicamento: \"))\n",
        "    dias_lista.append(input(f\"Dias de Tratamento do {i + 1}º Medicamento: \"))\n",
        "    inicios_lista.append(input(f\"Data de Início (no formato DD-MM-AAAA) do {i + 1}º Medicamento: \"))\n",
        "\n",
        "# Gerar a programação usando o GenAI\n",
        "prompt_parts = []\n",
        "\n",
        "for i in range(quantidade):\n",
        "    prompt_parts.append(f\"Nome do Medicamento: {medicamentos[i]}\")\n",
        "    prompt_parts.append(f\"Frequência: {frequencias[i]}\")\n",
        "    prompt_parts.append(f\"Com Refeições: {refeicoes_lista[i]}\")\n",
        "    prompt_parts.append(f\"Dias: {dias_lista[i]}\")\n",
        "    prompt_parts.append(f\"Início: {inicios_lista[i]}\")\n",
        "\n",
        "response = model.generate_content(prompt_parts)\n",
        "\n",
        "print(response.text)\n",
        "# Criação do PDF no modo paisagem\n",
        "pdf_file_name = \"medication_schedule.pdf\"\n",
        "c = canvas.Canvas(pdf_file_name, pagesize=landscape(letter))\n",
        "\n",
        "# Processamento de dados para a tabela a partir da resposta\n",
        "# Este passo requer que a resposta do texto seja ajustada a um formato de lista de listas adequado para a Table.\n",
        "# Aqui estamos assumindo que a resposta está formatada como uma série de linhas de texto, cada uma representando um medicamento com suas datas e horários.\n",
        "data = []\n",
        "response_lines = response.text.split(\"\\n\")\n",
        "for line in response_lines:\n",
        "    columns = line.split(\"|\")\n",
        "    if columns and len(columns) > 1:  # Ignorar linhas vazias ou inválidas\n",
        "        data.append([col.strip() for col in columns if col.strip()])  # Limpar e remover colunas vazias\n",
        "\n",
        "# Configuração da tabela\n",
        "t = Table(data)\n",
        "t.setStyle(TableStyle([\n",
        "    ('BACKGROUND', (0,0), (-1,0), colors.grey),\n",
        "    ('GRID', (0,0), (-1,-1), 1, colors.black),\n",
        "    ('TEXTCOLOR', (0,0), (-1,0), colors.whitesmoke),\n",
        "    ('ALIGN', (0,0), (-1,-1), 'CENTER'),\n",
        "    ('VALIGN', (0,0), (-1,-1), 'MIDDLE')\n",
        "]))\n",
        "\n",
        "# Desenho da tabela no canvas\n",
        "t.wrapOn(c, 800, 300)  # Ajustar as dimensões conforme necessário\n",
        "t.drawOn(c, 50, 150)  # Ajustar a posição conforme necessário\n",
        "\n",
        "# Finalizar e salvar o PDF\n",
        "c.save()\n",
        "\n",
        "# Fazer o download do arquivo PDF no Colab\n",
        "files.download(pdf_file_name)"
      ],
      "metadata": {
        "colab": {
          "base_uri": "https://localhost:8080/",
          "height": 836
        },
        "id": "6q2Wq7E9O-Bv",
        "outputId": "55ec894b-eb38-4589-80c0-20f371427e12"
      },
      "execution_count": 118,
      "outputs": [
        {
          "output_type": "stream",
          "name": "stdout",
          "text": [
            "Quantos medicamentos deseja incluir no plano: 2\n",
            "Nome do 1º Medicamento: paracetamol\n",
            "Frequência (em horas) do 1º Medicamento: 4h\n",
            "Com refeições (Sim ou Não) do 1º Medicamento: nao\n",
            "Dias de Tratamento do 1º Medicamento: 5\n",
            "Data de Início (no formato DD-MM-AAAA) do 1º Medicamento: 09/05/2024\n",
            "Nome do 2º Medicamento: amoxilina\n",
            "Frequência (em horas) do 2º Medicamento: 12h\n",
            "Com refeições (Sim ou Não) do 2º Medicamento: sim\n",
            "Dias de Tratamento do 2º Medicamento: 7\n",
            "Data de Início (no formato DD-MM-AAAA) do 2º Medicamento: 10/05/2024\n",
            "## Programação de Medicação\n",
            "\n",
            "| Data | Horário | paracetamol | amoxilina | Refeição |\n",
            "|---|---|---|---|---|\n",
            "| 09/05/2024 | 12:00 | X |  |  |\n",
            "| 09/05/2024 | 16:00 | X |  |  |\n",
            "| 09/05/2024 | 20:00 | X |  |  |\n",
            "| 10/05/2024 | 00:00 | X |  |  |\n",
            "| 10/05/2024 | 04:00 | X |  |  |\n",
            "| 10/05/2024 | 08:00 | X | X | Café da manhã |\n",
            "| 10/05/2024 | 12:00 | X |  |  |\n",
            "| 10/05/2024 | 16:00 | X |  |  |\n",
            "| 10/05/2024 | 20:00 | X | X | Jantar |\n",
            "| 11/05/2024 | 00:00 |  | X |  |\n",
            "| 11/05/2024 | 04:00 |  |  |  |\n",
            "| 11/05/2024 | 08:00 |  | X | Café da manhã |\n",
            "| 11/05/2024 | 12:00 |  |  |  |\n",
            "| 11/05/2024 | 16:00 |  |  |  |\n",
            "| 11/05/2024 | 20:00 |  | X | Jantar |\n",
            "| 12/05/2024 | 00:00 |  | X |  |\n",
            "| 12/05/2024 | 08:00 |  | X | Café da manhã |\n",
            "| 12/05/2024 | 20:00 |  | X | Jantar |\n",
            "| 13/05/2024 | 08:00 |  | X | Café da manhã |\n",
            "| 13/05/2024 | 20:00 |  | X | Jantar |\n",
            "| 14/05/2024 | 08:00 |  | X | Café da manhã |\n",
            "| 14/05/2024 | 20:00 |  | X | Jantar |\n",
            "| 15/05/2024 | 08:00 |  | X | Café da manhã |\n",
            "\n",
            "**Observações:**\n",
            "\n",
            "*  A tabela considera que as refeições principais (café da manhã e jantar) ocorrem às 08:00 e 20:00, respectivamente. \n",
            "* A programação pode ser ajustada de acordo com seus horários de refeição.\n",
            "* Consulte um médico ou farmacêutico para obter orientação específica sobre a sua medicação.\n"
          ]
        },
        {
          "output_type": "display_data",
          "data": {
            "text/plain": [
              "<IPython.core.display.Javascript object>"
            ],
            "application/javascript": [
              "\n",
              "    async function download(id, filename, size) {\n",
              "      if (!google.colab.kernel.accessAllowed) {\n",
              "        return;\n",
              "      }\n",
              "      const div = document.createElement('div');\n",
              "      const label = document.createElement('label');\n",
              "      label.textContent = `Downloading \"${filename}\": `;\n",
              "      div.appendChild(label);\n",
              "      const progress = document.createElement('progress');\n",
              "      progress.max = size;\n",
              "      div.appendChild(progress);\n",
              "      document.body.appendChild(div);\n",
              "\n",
              "      const buffers = [];\n",
              "      let downloaded = 0;\n",
              "\n",
              "      const channel = await google.colab.kernel.comms.open(id);\n",
              "      // Send a message to notify the kernel that we're ready.\n",
              "      channel.send({})\n",
              "\n",
              "      for await (const message of channel.messages) {\n",
              "        // Send a message to notify the kernel that we're ready.\n",
              "        channel.send({})\n",
              "        if (message.buffers) {\n",
              "          for (const buffer of message.buffers) {\n",
              "            buffers.push(buffer);\n",
              "            downloaded += buffer.byteLength;\n",
              "            progress.value = downloaded;\n",
              "          }\n",
              "        }\n",
              "      }\n",
              "      const blob = new Blob(buffers, {type: 'application/binary'});\n",
              "      const a = document.createElement('a');\n",
              "      a.href = window.URL.createObjectURL(blob);\n",
              "      a.download = filename;\n",
              "      div.appendChild(a);\n",
              "      a.click();\n",
              "      div.remove();\n",
              "    }\n",
              "  "
            ]
          },
          "metadata": {}
        },
        {
          "output_type": "display_data",
          "data": {
            "text/plain": [
              "<IPython.core.display.Javascript object>"
            ],
            "application/javascript": [
              "download(\"download_0c383694-1fbe-4974-8091-5bee8175ef45\", \"medication_schedule.pdf\", 2524)"
            ]
          },
          "metadata": {}
        }
      ]
    }
  ]
}