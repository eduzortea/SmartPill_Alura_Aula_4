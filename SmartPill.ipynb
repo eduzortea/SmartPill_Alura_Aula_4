{
  "nbformat": 4,
  "nbformat_minor": 0,
  "metadata": {
    "colab": {
      "provenance": [],
      "authorship_tag": "ABX9TyO0pwrtvOn780AZ8k08NdJ4",
      "include_colab_link": true
    },
    "kernelspec": {
      "name": "python3",
      "display_name": "Python 3"
    },
    "language_info": {
      "name": "python"
    }
  },
  "cells": [
    {
      "cell_type": "markdown",
      "metadata": {
        "id": "view-in-github",
        "colab_type": "text"
      },
      "source": [
        "<a href=\"https://colab.research.google.com/github/eduzortea/SmartPill_Alura_Aula_4/blob/main/SmartPill.ipynb\" target=\"_parent\"><img src=\"https://colab.research.google.com/assets/colab-badge.svg\" alt=\"Open In Colab\"/></a>"
      ]
    },
    {
      "cell_type": "markdown",
      "source": [
        "Instalar SDK"
      ],
      "metadata": {
        "id": "0NSiU7C1mJc2"
      }
    },
    {
      "cell_type": "code",
      "source": [
        "pip install -q -U google-generativeai"
      ],
      "metadata": {
        "id": "XavTvWMTkWbA"
      },
      "execution_count": null,
      "outputs": []
    },
    {
      "cell_type": "code",
      "source": [],
      "metadata": {
        "id": "MTIHJpBLrhKk"
      },
      "execution_count": null,
      "outputs": []
    },
    {
      "cell_type": "code",
      "source": [
        "!pip install virtualenv\n"
      ],
      "metadata": {
        "id": "hotOhjk4r9QH"
      },
      "execution_count": null,
      "outputs": []
    },
    {
      "cell_type": "code",
      "source": [
        "!virtualenv biblioteca1"
      ],
      "metadata": {
        "id": "aA5S3jM_sW6P"
      },
      "execution_count": null,
      "outputs": []
    },
    {
      "cell_type": "code",
      "source": [
        "!source biblioteca1/bin/activate\n"
      ],
      "metadata": {
        "id": "WNMdyA0Tsf70"
      },
      "execution_count": null,
      "outputs": []
    },
    {
      "cell_type": "markdown",
      "source": [
        "biblioteca de autenticacao a servicos do google:"
      ],
      "metadata": {
        "id": "KJzSkUoxuP_f"
      }
    },
    {
      "cell_type": "code",
      "source": [
        "pip install --upgrade google-auth==2.27.0\n"
      ],
      "metadata": {
        "id": "ns1cWt0itijW"
      },
      "execution_count": null,
      "outputs": []
    },
    {
      "cell_type": "code",
      "source": [
        "pip install reportlab"
      ],
      "metadata": {
        "id": "OTvr4OftP4Kx"
      },
      "execution_count": null,
      "outputs": []
    },
    {
      "cell_type": "code",
      "source": [
        "pip install qrcode"
      ],
      "metadata": {
        "id": "p1xhUdFYP_jp"
      },
      "execution_count": null,
      "outputs": []
    },
    {
      "cell_type": "markdown",
      "source": [
        "Inicializar a IA\n"
      ],
      "metadata": {
        "id": "0FpuzSTxmITV"
      }
    },
    {
      "cell_type": "code",
      "source": [
        "from reportlab.lib.pagesizes import letter, landscape\n",
        "from reportlab.pdfgen import canvas\n",
        "from reportlab.platypus import Table, TableStyle\n",
        "from reportlab.lib import colors\n",
        "from datetime import datetime, timedelta\n",
        "import qrcode\n",
        "from google.colab import files\n",
        "import google.generativeai as genai\n",
        "from google.colab import userdata\n",
        "\n",
        "# Obter a chave de API e configurar o genai\n",
        "api_key = userdata.get(\"SECRET_KEY\")\n",
        "genai.configure(api_key=api_key)\n",
        "\n",
        "system_instruction = \"Gere uma tabela de programação de medicamentos considerando as informações fornecidas. Cada linha na tabela deve representar um medicamento com as colunas correspondendo aos dias de tratamento, começando pela data de início especificada. Para cada medicamento, ajuste os horários de dose para coincidir com as refeições se necessário e não inclua horários de refeição já passados no dia de início. Use o formato de saída abaixo para a tabela:\\n\\nFormato da tabela:\\n- A primeira coluna deve listar o nome do medicamento.\\n- As colunas subsequentes devem representar cada dia de tratamento, iniciando pela data de início, com os horários das doses listados.\\n\\nExemplo de entrada:\\n- Nome do Medicamento: Aspirina, Frequência: 8h, Com Refeições: Sim, Dias: 10, Início: 20240510\\n- Nome do Medicamento: Ibuprofeno, Frequência: 12h, Com Refeições: Não, Dias: 15, Início: 20240510\\n\\nExpectativa de saída:\\n| Medicamento | 10/05/2024 | 11/05/2024 | 12/05/2024 | ... |\\n|-------------|------------|------------|------------|-----|\\n| Aspirina    | 08:00, 12:00, 19:00 | 08:00, 12:00, 19:00 | 08:00, 12:00, 19:00 | ... |\\n| Ibuprofeno  | 00:00, 12:00 | 00:00, 12:00 | 00:00, 12:00 | ... |\"\n",
        "\n",
        "# Nome do modelo do GenAI\n",
        "model = genai.GenerativeModel(model_name='gemini-1.5-pro-latest', system_instruction=system_instruction)\n",
        "\n",
        "# Solicitar informações do usuário\n",
        "quantidade = input(\"Quantos medicamentos deseja incluir no plano:\")\n",
        "medicamento = input(\"Nome do primeiro Medicamento: \")\n",
        "frequencia = input(\"Frequência (em horas): \")\n",
        "refeicoes = input(\"Com refeições (Sim ou Não): \")\n",
        "dias = input(\"Dias de Tratamento: \")\n",
        "inicio = input(\"Data de Início (no formato AAAA-MM-DD): \")\n",
        "\n",
        "# Gerar a programação usando o modelo GenAI\n",
        "prompt_parts = [\n",
        "    f\"Quantos medicamentos deseja incluir no plano: {quantidade}\",\n",
        "    f\"Nome do primeiro Medicamento: {medicamento}\",\n",
        "    f\"Frequência: {frequencia}\",\n",
        "    f\"Com Refeições: {refeicoes}\",\n",
        "    f\"Dias: {dias}\",\n",
        "    f\"Início: {inicio}\",\n",
        "]\n",
        "\n",
        "response = model.generate_content(prompt_parts)\n",
        "\n",
        "print(response.text)\n"
      ],
      "metadata": {
        "colab": {
          "base_uri": "https://localhost:8080/",
          "height": 273
        },
        "id": "6q2Wq7E9O-Bv",
        "outputId": "fb081e26-41ae-4f77-941b-56835e7a80fc"
      },
      "execution_count": 111,
      "outputs": [
        {
          "output_type": "stream",
          "name": "stdout",
          "text": [
            "Quantos medicamentos deseja incluir no plano:2\n",
            "Nome do primeiro Medicamento: paracetamol\n",
            "Frequência (em horas): 8h\n",
            "Com refeições (Sim ou Não): sim\n",
            "Dias de Tratamento: 4\n",
            "Data de Início (no formato AAAA-MM-DD): 2024-05-10\n",
            "Nome do segundo Medicamento: amoxicilinaFrequência: 12hCom Refeições: nãoDias: 7Início: 2024-05-12\n",
            "\n",
            "| Medicamento | 10/05/2024 | 11/05/2024 | 12/05/2024 | 13/05/2024 | 14/05/2024 | 15/05/2024 | 16/05/2024 |\n",
            "|-------------|------------|------------|------------|------------|------------|------------|------------|\n",
            "| paracetamol    | 08:00, 16:00 | 08:00, 16:00 | 08:00, 16:00 | 08:00, 16:00 |             |             |             |\n",
            "| amoxicilina  |             |             | 00:00, 12:00 | 00:00, 12:00 | 00:00, 12:00 | 00:00, 12:00 | 00:00, 12:00 | \n",
            "\n"
          ]
        }
      ]
    }
  ]
}